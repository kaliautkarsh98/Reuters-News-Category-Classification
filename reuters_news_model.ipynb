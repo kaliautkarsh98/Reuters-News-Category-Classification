{
  "nbformat": 4,
  "nbformat_minor": 0,
  "metadata": {
    "colab": {
      "name": "reuters news model.ipynb",
      "provenance": [],
      "authorship_tag": "ABX9TyMUjG4dq5anMNo2cAF/h8x9",
      "include_colab_link": true
    },
    "kernelspec": {
      "name": "python3",
      "display_name": "Python 3"
    }
  },
  "cells": [
    {
      "cell_type": "markdown",
      "metadata": {
        "id": "view-in-github",
        "colab_type": "text"
      },
      "source": [
        "<a href=\"https://colab.research.google.com/github/kaliautkarsh98/Reuters-News-Category-Classification/blob/master/reuters_news_model.ipynb\" target=\"_parent\"><img src=\"https://colab.research.google.com/assets/colab-badge.svg\" alt=\"Open In Colab\"/></a>"
      ]
    },
    {
      "cell_type": "code",
      "metadata": {
        "id": "kK-2WoGoItJS",
        "colab_type": "code",
        "colab": {}
      },
      "source": [
        "%matplotlib inline \n",
        "import matplotlib.pyplot as plt\n",
        "import numpy as np\n",
        "np.random.seed(0)\n",
        "import tensorflow as tf\n",
        "from tensorflow.keras.datasets import reuters\n",
        "from tensorflow.keras.models import Sequential\n",
        "from tensorflow.keras.layers import Dense,Dropout,Activation\n",
        "from tensorflow.keras.preprocessing.text import Tokenizer"
      ],
      "execution_count": 30,
      "outputs": []
    },
    {
      "cell_type": "code",
      "metadata": {
        "id": "Av98PGjVLRsv",
        "colab_type": "code",
        "colab": {}
      },
      "source": [
        "(x_train,y_train),(x_test,y_test)=reuters.load_data(num_words=10000,test_split=0.2)"
      ],
      "execution_count": 31,
      "outputs": []
    },
    {
      "cell_type": "code",
      "metadata": {
        "id": "_YU6ROkfLYoz",
        "colab_type": "code",
        "colab": {
          "base_uri": "https://localhost:8080/",
          "height": 51
        },
        "outputId": "1a994229-894d-4a0c-80e4-06a2778b40cc"
      },
      "source": [
        "print(len(x_train))\n",
        "print(len(x_test))"
      ],
      "execution_count": 32,
      "outputs": [
        {
          "output_type": "stream",
          "text": [
            "8982\n",
            "2246\n"
          ],
          "name": "stdout"
        }
      ]
    },
    {
      "cell_type": "code",
      "metadata": {
        "id": "a7Nj4eK4NPv3",
        "colab_type": "code",
        "colab": {}
      },
      "source": [
        "num_class=np.max(y_train)+1"
      ],
      "execution_count": 33,
      "outputs": []
    },
    {
      "cell_type": "code",
      "metadata": {
        "id": "lSijS4dCNpay",
        "colab_type": "code",
        "colab": {
          "base_uri": "https://localhost:8080/",
          "height": 34
        },
        "outputId": "93c89013-3796-49b6-f4c1-4d16a51e24b6"
      },
      "source": [
        "num_class"
      ],
      "execution_count": 34,
      "outputs": [
        {
          "output_type": "execute_result",
          "data": {
            "text/plain": [
              "46"
            ]
          },
          "metadata": {
            "tags": []
          },
          "execution_count": 34
        }
      ]
    },
    {
      "cell_type": "code",
      "metadata": {
        "id": "6uehNkpCNqdQ",
        "colab_type": "code",
        "colab": {}
      },
      "source": [
        "tokenizer=Tokenizer(num_words=10000)\n",
        "x_train=tokenizer.sequences_to_matrix(x_train,mode='binary')\n",
        "x_test=tokenizer.sequences_to_matrix(x_test,mode='binary')"
      ],
      "execution_count": 35,
      "outputs": []
    },
    {
      "cell_type": "code",
      "metadata": {
        "id": "0POr8SdtQCpB",
        "colab_type": "code",
        "colab": {}
      },
      "source": [
        "import keras.utils\n",
        "from keras import utils as np_utils"
      ],
      "execution_count": 36,
      "outputs": []
    },
    {
      "cell_type": "code",
      "metadata": {
        "id": "gHJyDngrRPns",
        "colab_type": "code",
        "colab": {}
      },
      "source": [
        "y_train=tf.keras.utils.to_categorical(y_train,num_class)\n",
        "y_test=tf.keras.utils.to_categorical(y_test,num_class)"
      ],
      "execution_count": 37,
      "outputs": []
    },
    {
      "cell_type": "code",
      "metadata": {
        "id": "HubgzuEZR8Xo",
        "colab_type": "code",
        "colab": {
          "base_uri": "https://localhost:8080/",
          "height": 34
        },
        "outputId": "c51f4239-fc05-46a5-bf5c-2d6f60a1108f"
      },
      "source": [
        "y_train.shape"
      ],
      "execution_count": 38,
      "outputs": [
        {
          "output_type": "execute_result",
          "data": {
            "text/plain": [
              "(8982, 46)"
            ]
          },
          "metadata": {
            "tags": []
          },
          "execution_count": 38
        }
      ]
    },
    {
      "cell_type": "code",
      "metadata": {
        "id": "G9-IysdrSFlh",
        "colab_type": "code",
        "colab": {
          "base_uri": "https://localhost:8080/",
          "height": 34
        },
        "outputId": "5f7378b3-1ae6-4de1-9f26-62f2ea61a794"
      },
      "source": [
        "y_test.shape"
      ],
      "execution_count": 39,
      "outputs": [
        {
          "output_type": "execute_result",
          "data": {
            "text/plain": [
              "(2246, 46)"
            ]
          },
          "metadata": {
            "tags": []
          },
          "execution_count": 39
        }
      ]
    },
    {
      "cell_type": "code",
      "metadata": {
        "id": "VHk8Kwu0SHuf",
        "colab_type": "code",
        "colab": {
          "base_uri": "https://localhost:8080/",
          "height": 323
        },
        "outputId": "ee115bfc-908e-4593-b0c6-7f68f04dcc76"
      },
      "source": [
        "model=Sequential([\n",
        "  Dense(512,input_shape=(10000,)),\n",
        "  Activation('relu'),\n",
        "  Dropout(0.5),\n",
        "  Dense(num_class),\n",
        "  Activation('softmax')\n",
        "])\n",
        "model.summary()"
      ],
      "execution_count": 41,
      "outputs": [
        {
          "output_type": "stream",
          "text": [
            "Model: \"sequential\"\n",
            "_________________________________________________________________\n",
            "Layer (type)                 Output Shape              Param #   \n",
            "=================================================================\n",
            "dense (Dense)                (None, 512)               5120512   \n",
            "_________________________________________________________________\n",
            "activation (Activation)      (None, 512)               0         \n",
            "_________________________________________________________________\n",
            "dropout (Dropout)            (None, 512)               0         \n",
            "_________________________________________________________________\n",
            "dense_1 (Dense)              (None, 46)                23598     \n",
            "_________________________________________________________________\n",
            "activation_1 (Activation)    (None, 46)                0         \n",
            "=================================================================\n",
            "Total params: 5,144,110\n",
            "Trainable params: 5,144,110\n",
            "Non-trainable params: 0\n",
            "_________________________________________________________________\n"
          ],
          "name": "stdout"
        }
      ]
    },
    {
      "cell_type": "code",
      "metadata": {
        "id": "6iet50NWSJFW",
        "colab_type": "code",
        "colab": {}
      },
      "source": [
        "from tensorflow.keras.callbacks import EarlyStopping \n",
        "es=EarlyStopping(monitor='val_loss',patience=3,verbose=1,mode='min')\n",
        "model.compile(optimizer='adam',loss='categorical_crossentropy',metrics=['accuracy'])"
      ],
      "execution_count": 48,
      "outputs": []
    },
    {
      "cell_type": "code",
      "metadata": {
        "id": "bxJlnR_QetDL",
        "colab_type": "code",
        "colab": {
          "base_uri": "https://localhost:8080/",
          "height": 170
        },
        "outputId": "674cb828-5f06-4380-a1bc-fbe97fa6c2de"
      },
      "source": [
        "history=model.fit(x_train,y_train,epochs=100,batch_size=32,validation_split=0.1,callbacks=[es])"
      ],
      "execution_count": 49,
      "outputs": [
        {
          "output_type": "stream",
          "text": [
            "Epoch 1/100\n",
            "253/253 [==============================] - 9s 37ms/step - loss: 0.1934 - accuracy: 0.9563 - val_loss: 1.5637 - val_accuracy: 0.7976\n",
            "Epoch 2/100\n",
            "253/253 [==============================] - 9s 36ms/step - loss: 0.1910 - accuracy: 0.9560 - val_loss: 1.6252 - val_accuracy: 0.7942\n",
            "Epoch 3/100\n",
            "253/253 [==============================] - 9s 36ms/step - loss: 0.1766 - accuracy: 0.9602 - val_loss: 1.7450 - val_accuracy: 0.7887\n",
            "Epoch 4/100\n",
            "253/253 [==============================] - 9s 36ms/step - loss: 0.1906 - accuracy: 0.9569 - val_loss: 1.6296 - val_accuracy: 0.7964\n",
            "Epoch 00004: early stopping\n"
          ],
          "name": "stdout"
        }
      ]
    },
    {
      "cell_type": "code",
      "metadata": {
        "id": "CifoLoKkfAvH",
        "colab_type": "code",
        "colab": {
          "base_uri": "https://localhost:8080/",
          "height": 51
        },
        "outputId": "083a599e-b476-47e6-c3bd-3cb5c734c8e4"
      },
      "source": [
        "model.evaluate(x_test,y_test,batch_size=32,verbose=1)"
      ],
      "execution_count": 50,
      "outputs": [
        {
          "output_type": "stream",
          "text": [
            "71/71 [==============================] - 1s 12ms/step - loss: 1.4949 - accuracy: 0.7992\n"
          ],
          "name": "stdout"
        },
        {
          "output_type": "execute_result",
          "data": {
            "text/plain": [
              "[1.4949105978012085, 0.799198567867279]"
            ]
          },
          "metadata": {
            "tags": []
          },
          "execution_count": 50
        }
      ]
    },
    {
      "cell_type": "code",
      "metadata": {
        "id": "SQ6yhpksgcDs",
        "colab_type": "code",
        "colab": {
          "base_uri": "https://localhost:8080/",
          "height": 312
        },
        "outputId": "e28b6524-e3d6-4908-8d44-a9979342ef5c"
      },
      "source": [
        "plt.plot(history.history['loss'],label=\"Training loss\")\n",
        "plt.plot(history.history['val_loss'],label=\"Validation loss\")\n",
        "plt.title('training and validation loss')\n",
        "plt.xlabel('epochs')\n",
        "plt.ylabel('loss')\n",
        "plt.legend()"
      ],
      "execution_count": 53,
      "outputs": [
        {
          "output_type": "execute_result",
          "data": {
            "text/plain": [
              "<matplotlib.legend.Legend at 0x7efe55bc3668>"
            ]
          },
          "metadata": {
            "tags": []
          },
          "execution_count": 53
        },
        {
          "output_type": "display_data",
          "data": {
            "image/png": "[encoded data removed]",
            "text/plain": [
              "<Figure size 432x288 with 1 Axes>"
            ]
          },
          "metadata": {
            "tags": [],
            "needs_background": "light"
          }
        }
      ]
    },
    {
      "cell_type": "code",
      "metadata": {
        "id": "o-MN1bDXg4nr",
        "colab_type": "code",
        "colab": {
          "base_uri": "https://localhost:8080/",
          "height": 312
        },
        "outputId": "33e01aff-f0d3-40f2-fd79-df815b73e03b"
      },
      "source": [
        "plt.plot(history.history['accuracy'],label=\"Training accuracy\")\n",
        "plt.plot(history.history['val_accuracy'],label=\"Validation accuracy\")\n",
        "plt.title('training and validation accuracy')\n",
        "plt.xlabel('epochs')\n",
        "plt.ylabel('accuracy')\n",
        "plt.legend()"
      ],
      "execution_count": 54,
      "outputs": [
        {
          "output_type": "execute_result",
          "data": {
            "text/plain": [
              "<matplotlib.legend.Legend at 0x7efe55b527b8>"
            ]
          },
          "metadata": {
            "tags": []
          },
          "execution_count": 54
        },
        {
          "output_type": "display_data",
          "data": {
            "image/png": "[encoded data removed]",
            "text/plain": [
              "<Figure size 432x288 with 1 Axes>"
            ]
          },
          "metadata": {
            "tags": [],
            "needs_background": "light"
          }
        }
      ]
    },
    {
      "cell_type": "code",
      "metadata": {
        "id": "eyFw-sA1hgUB",
        "colab_type": "code",
        "colab": {}
      },
      "source": [
        ""
      ],
      "execution_count": null,
      "outputs": []
    }
  ]
}